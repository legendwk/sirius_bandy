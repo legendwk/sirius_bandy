{
 "cells": [
  {
   "cell_type": "code",
   "execution_count": 1,
   "metadata": {},
   "outputs": [
    {
     "name": "stderr",
     "output_type": "stream",
     "text": [
      "c:\\Users\\vikin\\.conda\\envs\\kodnisse\\lib\\site-packages\\statsmodels\\tsa\\base\\tsa_model.py:7: FutureWarning: pandas.Int64Index is deprecated and will be removed from pandas in a future version. Use pandas.Index with the appropriate dtype instead.\n",
      "  from pandas import (to_datetime, Int64Index, DatetimeIndex, Period,\n",
      "c:\\Users\\vikin\\.conda\\envs\\kodnisse\\lib\\site-packages\\statsmodels\\tsa\\base\\tsa_model.py:7: FutureWarning: pandas.Float64Index is deprecated and will be removed from pandas in a future version. Use pandas.Index with the appropriate dtype instead.\n",
      "  from pandas import (to_datetime, Int64Index, DatetimeIndex, Period,\n"
     ]
    },
    {
     "name": "stdout",
     "output_type": "stream",
     "text": [
      "c:\\Users\\vikin\\Documents\\Sirius Bandy\\sirius_bandy\\kod\n"
     ]
    }
   ],
   "source": [
    "# imports\n",
    "import matplotlib.pyplot as plt\n",
    "import pandas as pd\n",
    "import numpy as np\n",
    "import os \n",
    "\n",
    "from compile_stats import CompileStats\n",
    "import general_functions as gf\n",
    "from get_plot import Plot\n",
    "\n",
    "import statsmodels.api as sm\n",
    "import statsmodels.formula.api as smf\n",
    "\n",
    "#os.chdir('..')\n",
    "\n",
    "print(os.getcwd())\n"
   ]
  },
  {
   "cell_type": "code",
   "execution_count": 12,
   "metadata": {},
   "outputs": [
    {
     "data": {
      "image/png": "[encoded data removed]",
      "text/plain": [
       "<Figure size 432x288 with 1 Axes>"
      ]
     },
     "metadata": {
      "needs_background": "light"
     },
     "output_type": "display_data"
    }
   ],
   "source": [
    "# plottar \n",
    "d = {'x': [0, 180, 241, 358, 381, 439, 544, 581, 645, 718, 749, 780, 1271, 1416, 1500, 1718, 1789, 1901, 1956, 2016, 2038, 2097, 2415, 2448, 2470, 2551, 2572, 2600, 2683, 2751, 2798], 'sirius': [0, 0.05263157894736842, 0.05263157894736842, 0.05263157894736842, 0.05263157894736842, 0.25263157894736843, 0.25263157894736843, 0.30526315789473685, 0.30526315789473685, 0.30526315789473685, 0.35789473684210527, 0.35789473684210527, 0.4885938249880019, 0.4885938249880019, 0.5412254039353703, 0.5412254039353703, 0.5412254039353703, 0.7412254039353703, 0.7938569828827386, 0.846488561830107, 0.9771876499760037, 0.9771876499760037, 0.9771876499760037, 0.9771876499760037, 1.173616221404575, 1.3886699848454354, 1.3886699848454354, 1.3886699848454354, 1.3886699848454354, 1.3886699848454354, 1.5886699848454353], \n",
    "'bollnäs': [0, 0, 0.21505376344086022, 0.4150537634408602, 0.5457528515867569, 0.5457528515867569, 0.6764519397326536, 0.6764519397326536, 0.729083518680022, 0.9441372821208822, 0.9441372821208822, 0.9967688610682506, 0.9967688610682506, 1.1967688610682505, 1.1967688610682505, 1.249400440015619, 1.4644542034564791, 1.4644542034564791, 1.4644542034564791, 1.4644542034564791, 1.4644542034564791, 1.6608827748850505, 1.8608827748850505, 2.0608827748850507, 2.0608827748850507, 2.0608827748850507, 2.1135143538324193, 2.244213441978316, 2.4406420134068876, 2.5713411015527843, 2.5713411015527843]} \n",
    "x = d['x']\n",
    "y1 = d['sirius']\n",
    "y2 = d['bollnäs']\n",
    "x_axis = [i//60 + 1 for i in x]\n",
    "\n",
    "plt.plot(x_axis,y1, color = 'r', linewidth=2, label = 'Sirius')\n",
    "plt.plot(x_axis, y2, color = 'black', linewidth=2, label = 'Motståndare')\n",
    "plt.legend()\n",
    "plt.xlabel('Minuter')\n",
    "#plt.xticks(x, x_axis)\n",
    "plt.ylabel('XG')\n",
    "\n",
    "\n",
    "plt.show()\n"
   ]
  },
  {
   "cell_type": "code",
   "execution_count": 3,
   "metadata": {},
   "outputs": [],
   "source": [
    "# vår data\n",
    "season2223 = 'data\\\\compile\\\\säsong 2223'\n",
    "regular_season2223 = 'data\\\\compile\\\\grundserie 2223'\n",
    "all_games = 'data\\\\compile\\\\alla'\n",
    "cup2223 = 'data\\\\compile\\\\cupen 2223'\n",
    "all_45_min = 'data\\\\compile\\\\45 min'\n",
    "outdoors = 'data\\\\compile\\\\utomhus'\n",
    "indoors = 'data\\\\compile\\\\inomhus'\n",
    "bad_ice = 'data\\\\compile\\\\dålig is'\n",
    "playoff2122 = 'data\\\\compile\\\\slutspel 2122'\n",
    "playoff2223 = 'data\\\\compile\\\\slutspel 2223'\n",
    "custom = 'data\\\\compile\\\\custom'\n",
    "inne2223 = 'data\\\\compile\\\\inne 2223'\n",
    "ute2223 = 'data\\\\compile\\\\ute 2223'\n",
    "rapport_all = 'data\\\\compile\\\\rapport all'\n",
    "\n",
    "os.chdir('c:\\\\Users\\\\vikin\\\\Documents\\\\Sirius Bandy\\\\sirius_bandy')\n"
   ]
  },
  {
   "cell_type": "code",
   "execution_count": 14,
   "metadata": {},
   "outputs": [
    {
     "name": "stdout",
     "output_type": "stream",
     "text": [
      "45\n"
     ]
    }
   ],
   "source": [
    "# objekt\n",
    "cs = CompileStats(regular_season2223)\n",
    "print(len(cs.games))\n",
    "\n",
    "# vi kollar på närkamper och dueller\n",
    "# data\n",
    "# mål\n",
    "goals_sir = np.array(cs.all_stats['goals']['sirius'])\n",
    "goals_opp = np.array(cs.all_stats['goals']['opponent'])\n",
    "\n",
    "# XG\n",
    "xg_sir = np.array(cs.all_stats['expected goals']['sirius'])\n",
    "xg_opp = np.array(cs.all_stats['expected goals']['opponent'])\n",
    "\n",
    "# dueller och närkamper\n",
    "duels_sir = np.array(cs.all_stats['duels']['sirius'])\n",
    "duels_opp = np.array(cs.all_stats['duels']['opponent'])\n",
    "\n",
    "scrimmages_sir = np.array(cs.all_stats['scrimmages']['sirius'])\n",
    "scrimmages_opp = np.array(cs.all_stats['scrimmages']['opponent'])\n",
    "\n",
    "interceptions_sir = np.array(cs.all_stats['interceptions']['sirius'])\n",
    "interceptions_opp = np.array(cs.all_stats['interceptions']['opponent'])\n",
    "\n",
    "sog_sir = np.array(cs.all_stats['shots on goal']['sirius'])\n",
    "sog_opp = np.array(cs.all_stats['shots on goal']['opponent'])\n",
    "\n",
    "sa_sir = np.array(cs.all_stats['shot attempts']['sirius'])\n",
    "sa_opp = np.array(cs.all_stats['shot attempts']['opponent'])\n",
    "\n",
    "d = {'goals sirius': goals_sir, 'goals opp': goals_opp, 'goals diff': goals_sir - goals_opp,\n",
    "'xg sirius': xg_sir, 'xg opp': xg_opp, 'xg diff': xg_sir - xg_opp,\n",
    "'defense sirius': xg_opp - goals_opp, 'offense sirius': xg_sir - goals_sir, 'result diff': (xg_sir - xg_opp) - (goals_sir - goals_opp),\n",
    "'duels sirius': duels_sir, 'duels opp': duels_opp, 'duels diff': duels_sir - duels_opp,\n",
    "'scrimmages sirius': scrimmages_sir, 'scrimmages_opp': scrimmages_opp, 'scrimmages diff': scrimmages_sir - scrimmages_opp,\n",
    "'shots on goal sirius': sog_sir, 'shots on goal opp': sog_opp, 'shots on goal diff': sog_sir - sog_opp,\n",
    "'shot attempts sirius': sa_sir, 'shot attempts opp': sa_opp, 'shot attempts diff' : sa_sir - sa_opp}\n",
    "\n",
    "df = pd.DataFrame(d)"
   ]
  },
  {
   "attachments": {},
   "cell_type": "markdown",
   "metadata": {},
   "source": [
    "# Hur vinner man? "
   ]
  },
  {
   "cell_type": "code",
   "execution_count": 19,
   "metadata": {},
   "outputs": [
    {
     "name": "stdout",
     "output_type": "stream",
     "text": [
      "c:\\Users\\vikin\\Documents\\Sirius Bandy\\sirius_bandy\n",
      "                            OLS Regression Results                            \n",
      "==============================================================================\n",
      "Dep. Variable:              goal_diff   R-squared:                       0.591\n",
      "Model:                            OLS   Adj. R-squared:                  0.581\n",
      "Method:                 Least Squares   F-statistic:                     62.02\n",
      "Date:                Thu, 02 Feb 2023   Prob (F-statistic):           7.12e-10\n",
      "Time:                        12:15:00   Log-Likelihood:                -85.099\n",
      "No. Observations:                  45   AIC:                             174.2\n",
      "Df Residuals:                      43   BIC:                             177.8\n",
      "Df Model:                           1                                         \n",
      "Covariance Type:            nonrobust                                         \n",
      "==============================================================================\n",
      "                 coef    std err          t      P>|t|      [0.025      0.975]\n",
      "------------------------------------------------------------------------------\n",
      "Intercept     -0.4110      0.246     -1.671      0.102      -0.907       0.085\n",
      "xg_diff        1.5226      0.193      7.876      0.000       1.133       1.912\n",
      "==============================================================================\n",
      "Omnibus:                        3.355   Durbin-Watson:                   1.990\n",
      "Prob(Omnibus):                  0.187   Jarque-Bera (JB):                1.665\n",
      "Skew:                          -0.101   Prob(JB):                        0.435\n",
      "Kurtosis:                       2.080   Cond. No.                         1.30\n",
      "==============================================================================\n",
      "\n",
      "Notes:\n",
      "[1] Standard Errors assume that the covariance matrix of the errors is correctly specified.\n",
      "r för xg_diff och goal_diff 0.7684876097261512\n"
     ]
    },
    {
     "data": {
      "image/png": "[encoded data removed]",
      "text/plain": [
       "<Figure size 432x288 with 1 Axes>"
      ]
     },
     "metadata": {
      "needs_background": "light"
     },
     "output_type": "display_data"
    }
   ],
   "source": [
    "# vi lägger våra bilder här\n",
    "#os.chdir('bilder\\\\rapporten')\n",
    "print(os.getcwd())\n",
    "os.chdir('c:\\\\Users\\\\vikin\\\\Documents\\\\Sirius Bandy\\\\sirius_bandy')\n",
    "# data\n",
    "# x_string, y_string = 'poss_perc', 'goals_perc'\n",
    "# x = cs.all_stats['duel zones']['z8']['sirius'] + cs.all_stats['duel zones']['z2']['opponent'] \n",
    "# y = cs.all_stats['goals']['sirius'] + cs.all_stats['goals']['opponent']\n",
    "# x, y = df['shots on goal sirius'] /(df['shots on goal sirius'] + df['shots on goal opp']), df['goals sirius']/(df['goals sirius'] + df['goals opp'])\n",
    "# x = x.fillna(0.5)\n",
    "# y = y.fillna(0.5)\n",
    "\n",
    "# x = poss_percentage\n",
    "# y = df['goals sirius']/(df['goals sirius'] + df['goals opp'])\n",
    "# y = y.fillna(0.5)\n",
    "#x, y = [i for i in sog_sir] + [i for i in sog_opp], [i for i in goals_sir] + [i for i in goals_opp]\n",
    "\n",
    "x = df['xg diff'] # xg_diff\n",
    "y = df['goals diff'] # goal_diff\n",
    "x_string, y_string = 'xg_diff', 'goal_diff'\n",
    "\n",
    "\n",
    "c_df = pd.DataFrame()\n",
    "c_df[x_string] = x\n",
    "c_df[y_string] = y\n",
    "\n",
    "#fit the model\n",
    "model_fit=smf.ols(formula=f'{y_string} ~ {x_string}', data=c_df[[y_string,x_string]]).fit()\n",
    "#print summary\n",
    "print(model_fit.summary())\n",
    "\n",
    "# korrelationskoefficient\n",
    "print(f\"r för {x_string} och {y_string} {np.corrcoef(x, y)[0][1]}\")\n",
    "\n",
    "# plotta datan med en 1d-trendlinje\n",
    "plt.scatter(x, y, marker='o')#, label = 'mål och närkamper')\n",
    "plt.xlabel('Skillnad i XG')\n",
    "plt.ylabel('Målskillnad')\n",
    "#plt.title('Mål- mot duellskillnad halvleksvis')\n",
    "z = np.polyfit(x, y, 1)\n",
    "p = np.poly1d(z)\n",
    "\n",
    "# trendlinje\n",
    "plt.plot(x, p(x), color = 'r', label = f'lutning {round(z[0], 4)}')#, label = 'tredlinje')\n",
    "plt.legend()\n",
    "#plt.figure(dpi = 100)\n",
    "plt.savefig(f'{x_string} mot {y_string} halvleksvis 1d trendlinje.png', dpi = 200)\n",
    "plt.show()\n",
    "plt.close()\n"
   ]
  },
  {
   "cell_type": "code",
   "execution_count": 33,
   "metadata": {},
   "outputs": [],
   "source": [
    "c_df = pd.DataFrame()\n",
    "c_df['']\n",
    "\n",
    "#model_fit=smf.ols(formula='Shots ~ Passes', data=custom_df[['Shots','Passes']]).fit()\n"
   ]
  },
  {
   "cell_type": "code",
   "execution_count": 116,
   "metadata": {},
   "outputs": [
    {
     "name": "stdout",
     "output_type": "stream",
     "text": [
      "r för corsi events och goals for 0.48529395841533746\n",
      "z: [ 0.17745877 -0.43115135]\n"
     ]
    },
    {
     "data": {
      "image/png": "[encoded data removed]",
      "text/plain": [
       "<Figure size 432x288 with 1 Axes>"
      ]
     },
     "metadata": {
      "needs_background": "light"
     },
     "output_type": "display_data"
    }
   ],
   "source": [
    "# vi lägger våra bilder här\n",
    "os.chdir('bilder\\\\rapporten')\n",
    "\n",
    "# data\n",
    "x_string, y_string = 'corsi events', 'goals for'\n",
    "x = cs.all_stats['shot attempts']['sirius'] + cs.all_stats['shot attempts']['opponent']\n",
    "y = cs.all_stats['goals']['sirius'] + cs.all_stats['goals']['opponent']\n",
    "# df['duels sirius']/(df['duels sirius'] + df['duels opp']), df['goals sirius']/(df['goals sirius'] + df['goals opp'])\n",
    "\n",
    "\n",
    "# korrelationskoefficient\n",
    "print(f\"r för {x_string} och {y_string} {np.corrcoef(x, y)[0][1]}\")\n",
    "\n",
    "# plotta datan med en 1d-trendlinje\n",
    "plt.scatter(x, y, marker='o')#, label = 'mål och närkamper')\n",
    "plt.xlabel('Corsihändelser')\n",
    "plt.ylabel('Gjorda mål')\n",
    "#plt.title('Mål- mot duellskillnad halvleksvis')\n",
    "z = np.polyfit(x, y, 1)\n",
    "p = np.poly1d(z)\n",
    "\n",
    "print(f'z: {z}')\n",
    "# trendlinje\n",
    "plt.plot(x, p(x), color = 'r', label = f'lutning {round(z[0], 4)}')#, label = 'tredlinje')\n",
    "plt.legend()\n",
    "plt.savefig(f'{x_string} mot {y_string} halvleksvis 1d trendlinje.png', dpi = 200)\n",
    "plt.show()\n",
    "plt.close()\n",
    "\n",
    "\n",
    "os.chdir('..\\\\..')"
   ]
  },
  {
   "cell_type": "code",
   "execution_count": 80,
   "metadata": {},
   "outputs": [
    {
     "name": "stdout",
     "output_type": "stream",
     "text": [
      "c:\\Users\\vikin\\Documents\\Sirius Bandy\\sirius_bandy\n"
     ]
    },
    {
     "data": {
      "text/plain": [
       "'\\n# data\\nx_string, y_string = \\'possession percentage\\', \\'goal percentage\\'\\nx = poss_percentage\\ny = df[\\'goals sirius\\']/(df[\\'goals opp\\'] + df[\\'goals sirius\\']) * 100  \\n#cs.all_stats[\\'goals\\'][\\'sirius\\'] /(cs.all_stats[\\'goals\\'][\\'sirius\\'] + cs.all_stats[\\'goals\\'][\\'opponent\\'])\\n# df[\\'duels sirius\\']/(df[\\'duels sirius\\'] + df[\\'duels opp\\']), df[\\'goals sirius\\']/(df[\\'goals sirius\\'] + df[\\'goals opp\\'])\\n\\n# korrelationskoefficient\\n#print(f\"r för {x_string} och {y_string} {np.corrcoef(x, y)[0][1]}\")\\n\\n# plotta datan med en 1d-trendlinje\\nplt.scatter(x, y, marker=\\'o\\')#, label = \\'mål och närkamper\\')\\nplt.xlabel(\\'Innehavsprocent\\')\\nplt.ylabel(\\'Målprocent\\')\\n#plt.title(\\'Mål- mot duellskillnad halvleksvis\\')\\nz = np.polyfit(x, y, 1)\\np = np.poly1d(z)\\n\\n\\n# trendlinje\\nplt.plot(x, p(x), color = \\'r\\', label = f\\'lutning {round(z[0], 4)}\\')#, label = \\'tredlinje\\')\\nplt.legend()\\nplt.savefig(f\\'{x_string} mot {y_string} halvleksvis 1d trendlinje.png\\')\\nplt.show()\\nplt.close()\\n'"
      ]
     },
     "execution_count": 80,
     "metadata": {},
     "output_type": "execute_result"
    }
   ],
   "source": [
    "print(os.getcwd())\n",
    "#os.chdir('bilder\\\\rapporten')\n",
    "\n",
    "poss_percentage = []\n",
    "for i in range(len(cs.all_stats['possession']['sirius'])):\n",
    "    poss_si = gf.readable_to_sec(cs.all_stats['possession']['sirius'][i])\n",
    "    poss_op = gf.readable_to_sec(cs.all_stats['possession']['opponent'][i])\n",
    "    poss_percentage.append(poss_si/(poss_si + poss_op))\n",
    "\n",
    "#poss_percentage = poss_percentage + p\n",
    "'''\n",
    "# data\n",
    "x_string, y_string = 'possession percentage', 'goal percentage'\n",
    "x = poss_percentage\n",
    "y = df['goals sirius']/(df['goals opp'] + df['goals sirius']) * 100  \n",
    "#cs.all_stats['goals']['sirius'] /(cs.all_stats['goals']['sirius'] + cs.all_stats['goals']['opponent'])\n",
    "# df['duels sirius']/(df['duels sirius'] + df['duels opp']), df['goals sirius']/(df['goals sirius'] + df['goals opp'])\n",
    "\n",
    "# korrelationskoefficient\n",
    "#print(f\"r för {x_string} och {y_string} {np.corrcoef(x, y)[0][1]}\")\n",
    "\n",
    "# plotta datan med en 1d-trendlinje\n",
    "plt.scatter(x, y, marker='o')#, label = 'mål och närkamper')\n",
    "plt.xlabel('Innehavsprocent')\n",
    "plt.ylabel('Målprocent')\n",
    "#plt.title('Mål- mot duellskillnad halvleksvis')\n",
    "z = np.polyfit(x, y, 1)\n",
    "p = np.poly1d(z)\n",
    "\n",
    "\n",
    "# trendlinje\n",
    "plt.plot(x, p(x), color = 'r', label = f'lutning {round(z[0], 4)}')#, label = 'tredlinje')\n",
    "plt.legend()\n",
    "plt.savefig(f'{x_string} mot {y_string} halvleksvis 1d trendlinje.png')\n",
    "plt.show()\n",
    "plt.close()\n",
    "'''"
   ]
  },
  {
   "cell_type": "code",
   "execution_count": 108,
   "metadata": {},
   "outputs": [
    {
     "name": "stdout",
     "output_type": "stream",
     "text": [
      "sirius more: {'sirius': 4, 'opponent': 12}\n",
      "opp more {'sirius': 2, 'opponent': 7}\n"
     ]
    }
   ],
   "source": [
    "sirius_more = {'sirius': 0, 'opponent': 0}\n",
    "opponent_more = {'sirius': 0, 'opponent': 0}\n",
    "barrier = 0.5\n",
    "for i in range(len(cs.games)):\n",
    "    if gf.readable_to_sec(cs.all_stats['possession']['sirius'][i])/(gf.readable_to_sec(cs.all_stats['possession']['opponent'][i]) + gf.readable_to_sec(cs.all_stats['possession']['sirius'][i])) >= barrier:\n",
    "        if cs.all_stats['goals']['sirius'][i] > cs.all_stats['goals']['opponent'][i]:\n",
    "            sirius_more['sirius'] += 1\n",
    "        elif cs.all_stats['goals']['sirius'][i] < cs.all_stats['goals']['opponent'][i]:\n",
    "            sirius_more['opponent'] += 1\n",
    "    elif gf.readable_to_sec(cs.all_stats['possession']['opponent'][i])/(gf.readable_to_sec(cs.all_stats['possession']['opponent'][i]) + gf.readable_to_sec(cs.all_stats['possession']['sirius'][i])) >= barrier:\n",
    "        if cs.all_stats['goals']['sirius'][i] > cs.all_stats['goals']['opponent'][i]:\n",
    "            opponent_more['sirius'] += 1\n",
    "        elif cs.all_stats['goals']['sirius'][i] < cs.all_stats['goals']['opponent'][i]:\n",
    "            opponent_more['opponent'] += 1\n",
    "print(f'sirius more: {sirius_more}')\n",
    "print(f'opp more {opponent_more}')"
   ]
  },
  {
   "cell_type": "code",
   "execution_count": 6,
   "metadata": {},
   "outputs": [
    {
     "name": "stdout",
     "output_type": "stream",
     "text": [
      "sirius more: {'sirius': 4, 'opponent': 3}\n",
      "opp more {'sirius': 0, 'opponent': 7}\n"
     ]
    }
   ],
   "source": [
    "sirius_more = {'sirius': 0, 'opponent': 0}\n",
    "opponent_more = {'sirius': 0, 'opponent': 0}\n",
    "barrier = 0.55\n",
    "for i in range(len(cs.games)):\n",
    "    if cs.all_stats['shot attempts']['sirius'][i]/(cs.all_stats['shot attempts']['opponent'][i] + cs.all_stats['shot attempts']['sirius'][i]) >= barrier:\n",
    "        if cs.all_stats['goals']['sirius'][i] > cs.all_stats['goals']['opponent'][i]:\n",
    "            sirius_more['sirius'] += 1\n",
    "        elif cs.all_stats['goals']['sirius'][i] < cs.all_stats['goals']['opponent'][i]:\n",
    "            sirius_more['opponent'] += 1\n",
    "    elif cs.all_stats['shot attempts']['opponent'][i]/(cs.all_stats['shot attempts']['opponent'][i] + cs.all_stats['shot attempts']['sirius'][i]) >= barrier:\n",
    "        if cs.all_stats['goals']['sirius'][i] > cs.all_stats['goals']['opponent'][i]:\n",
    "            opponent_more['sirius'] += 1\n",
    "        elif cs.all_stats['goals']['sirius'][i] < cs.all_stats['goals']['opponent'][i]:\n",
    "            opponent_more['opponent'] += 1\n",
    "print(f'sirius more: {sirius_more}')\n",
    "print(f'opp more {opponent_more}')"
   ]
  },
  {
   "attachments": {},
   "cell_type": "markdown",
   "metadata": {},
   "source": [
    "# Bra och dålig is"
   ]
  },
  {
   "cell_type": "code",
   "execution_count": 50,
   "metadata": {},
   "outputs": [],
   "source": [
    "rapport_inne = 'data\\\\compile\\\\rapport inomhus'\n",
    "rapport_ute = 'data\\\\compile\\\\rapport utomhus'\n",
    "rapport_bad_ice = 'data\\\\compile\\\\rapport dålig is'\n",
    "rapport_good_ice = 'data\\\\compile\\\\rapport bra is'\n",
    "\n",
    "N_inne, N_ute, N_bad_ice, N_good_ice = 20, 16, 4, 12\n",
    "\n",
    "cs_inne = CompileStats(rapport_inne)\n",
    "cs_ute = CompileStats(rapport_ute)\n",
    "cs_bad_ice = CompileStats(rapport_bad_ice)\n",
    "cs_good_ice = CompileStats(rapport_good_ice)\n",
    "\n",
    "os.chdir('bilder\\\\rapporten')"
   ]
  },
  {
   "cell_type": "code",
   "execution_count": 66,
   "metadata": {},
   "outputs": [
    {
     "name": "stdout",
     "output_type": "stream",
     "text": [
      "{'z2': {'sirius': 5.4, 'opponent': 1.0}, 'z9': {'sirius': 0.9, 'opponent': 1.4}, 'z5': {'sirius': 4.85, 'opponent': 4.5}, 'z7': {'sirius': 0.8, 'opponent': 1.6}, 'z8': {'sirius': 0.85, 'opponent': 5.25}, 'z3': {'sirius': 1.4, 'opponent': 0.7}, 'z1': {'sirius': 1.2, 'opponent': 0.65}, 'z4': {'sirius': 2.8, 'opponent': 2.05}, 'z6': {'sirius': 2.35, 'opponent': 2.5}}\n"
     ]
    },
    {
     "data": {
      "text/plain": [
       "\"\\nprint(cs_inne.all_stats['duel zones'])\\nprint(cs_inne.stats_summary['duel zones'])\\n\\ns = cs_inne.returns_stats_obj()\\nfor grabb in s.prints:\\n    print(s.prints[grabb])\\n\\n#print(s.prints['duel zones'])\\nfor z in s.prints['duel zones']:\\n    for team in s.prints['duel zones'][z]:\\n        s.prints['duel zones'][z][team] = s.prints['duel zones'][z][team]// N_inne\\nprint(s.prints['duel zones'])\\nplot = Plot(s)\\nplot.make_all_duels_locations_image()\\nplot.make_all_duels_locations_image()\\n\""
      ]
     },
     "execution_count": 66,
     "metadata": {},
     "output_type": "execute_result"
    }
   ],
   "source": [
    "# vi lägger våra bilder här\n",
    "\n",
    "cs = cs_inne\n",
    "N = N_inne\n",
    "\n",
    "for z in cs.all_stats['duel zones']:\n",
    "    for team in cs.all_stats['duel zones'][z]:\n",
    "        cs.stats_summary['duel zones'][z][team] = sum(cs.all_stats['duel zones'][z][team]) / N\n",
    "\n",
    "print(cs.stats_summary['duel zones'])\n",
    "'''\n",
    "print(cs_inne.all_stats['duel zones'])\n",
    "print(cs_inne.stats_summary['duel zones'])\n",
    "\n",
    "s = cs_inne.returns_stats_obj()\n",
    "for grabb in s.prints:\n",
    "    print(s.prints[grabb])\n",
    "\n",
    "#print(s.prints['duel zones'])\n",
    "for z in s.prints['duel zones']:\n",
    "    for team in s.prints['duel zones'][z]:\n",
    "        s.prints['duel zones'][z][team] = s.prints['duel zones'][z][team]// N_inne\n",
    "print(s.prints['duel zones'])\n",
    "plot = Plot(s)\n",
    "plot.make_all_duels_locations_image()\n",
    "plot.make_all_duels_locations_image()\n",
    "'''"
   ]
  }
 ],
 "metadata": {
  "kernelspec": {
   "display_name": "kodnisse",
   "language": "python",
   "name": "python3"
  },
  "language_info": {
   "codemirror_mode": {
    "name": "ipython",
    "version": 3
   },
   "file_extension": ".py",
   "mimetype": "text/x-python",
   "name": "python",
   "nbconvert_exporter": "python",
   "pygments_lexer": "ipython3",
   "version": "3.8.12"
  },
  "orig_nbformat": 4,
  "vscode": {
   "interpreter": {
    "hash": "886c7fca7b8188aa0fb065041686f06fd2b956325613be6398a76a9cde0a1c8b"
   }
  }
 },
 "nbformat": 4,
 "nbformat_minor": 2
}

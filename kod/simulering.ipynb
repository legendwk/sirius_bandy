{
 "cells": [
  {
   "cell_type": "code",
   "execution_count": 1,
   "metadata": {},
   "outputs": [],
   "source": [
    "import numpy as np\n",
    "import random \n",
    "\n"
   ]
  },
  {
   "attachments": {},
   "cell_type": "markdown",
   "metadata": {},
   "source": [
    "# Simulering av sista matcherna\n",
    "# \n"
   ]
  },
  {
   "cell_type": "code",
   "execution_count": 7,
   "metadata": {},
   "outputs": [],
   "source": [
    "class TeamClass:\n",
    "    def __init__(self, name, g, w, t, l, wp = None, tp = None):\n",
    "        self.name = name\n",
    "        self.games = g\n",
    "        self.wins = w\n",
    "        self.ties = t\n",
    "        self.losses = l\n",
    "        self.win_prob = wp if wp != None else w/g\n",
    "        self.tie_prob = tp if tp != None else t/g\n",
    "    \n",
    "    def calculate_points(self):\n",
    "        '''calculates points for the object'''\n",
    "        self.points = self.wins * 2 + self.ties \n",
    "\n",
    "class SeasonClass:\n",
    "    def __init__(self, teams, schedule):\n",
    "        self.teams = teams\n",
    "        self.schedule\n",
    "\n",
    "    def play_season(self):\n",
    "        '''plays the season'''\n",
    "        for round in self.schedule:\n",
    "            self.play_round(round)\n",
    "\n",
    "    def play_round(self, games):\n",
    "        ''''plays a round'''\n",
    "        for game in games:\n",
    "            team1, team2 = game\n",
    "            self.play_game(team1, team2)\n",
    "    \n",
    "    def play_game(self, team1, team2):\n",
    "        '''plays a game'''\n",
    "        \n",
    "        "
   ]
  },
  {
   "cell_type": "code",
   "execution_count": 10,
   "metadata": {},
   "outputs": [],
   "source": [
    "# (team, games, wins, ties, losses)\n",
    "teams = [\n",
    "    ('villa', 18, 16, 2, 0), ('vsk', 19, 12, 2, 5), ('bollnäs', 19, 11, 2, 6), \n",
    "    ('saik', 19, 8, 4, 7), ('edsbyn', 18, 8, 3, 7), ('broberg', 19, 6, 7, 6), \n",
    "    ('vetlanda', 18, 8, 3, 7), ('motala', 18, 8, 2, 8), ('sirius', 19, 7, 1, 11), \n",
    "    ('hammarby', 18, 6, 2, 10), ('vänersborg', 19, 5, 2, 12), ('gripen', 18, 4, 4, 10), \n",
    "    ('frillesås', 18, 3, 2, 13)\n",
    "]\n",
    "\n",
    "# scheduele \n",
    "[\n",
    "    [\n",
    "        ('vänersborg', 'hammarby'), ('villa', 'sirius'), ('frillesås', 'saik'), \n",
    "        ('vetlanda', 'gripen'), ('broberg', 'vsk'), ('edsbyn', 'motala')\n",
    "    ],\n",
    "    [\n",
    "        ('bollnäs', 'broberg'), ('frillesås', 'edsbyn'), ('motala', 'villa'),\n",
    "        ('vetlanda', 'vänersborg'), ('hammarby', 'gripen'), ('vsk', 'sirius')\n",
    "    ],\n",
    "    [\n",
    "        ('vsk', 'bollnäs'), ('villa', 'edsbyn'), ('vänersborg', 'motala'),\n",
    "        ('hammarby', 'saik'), ('sirius', 'vetlanda'), ('gripen', 'frillesås')\n",
    "    ],\n",
    "    [\n",
    "        ('bollnäs', 'sirius'), ('edsbyn', 'broberg'), ('frillesås', 'villa'),\n",
    "        ('motala', 'hammarby'), ('saik', 'gripen'), ('vetlanda', 'vsk')\n",
    "    ],\n",
    "    [\n",
    "        ('vänersborg', 'saik'), ('villa', 'vetlanda'), ('sirius', 'frillesås'),\n",
    "        ('gripen', 'bollnäs'), ('broberg', 'motala'), ('hammarby', 'edsbyn')\n",
    "    ],\n",
    "    [\n",
    "        ('saik', 'villa'), ('bollnäs', 'vänersborg'), ('edsbyn', 'gripen'),\n",
    "        ('frillesås', 'hammarby'), ('motala', 'vsk'), ('vetlanda', 'broberg')\n",
    "    ]\n",
    "]\n",
    "\n",
    "team_dict = {t[0]: TeamClass(*t) for t in teams}\n",
    "\n"
   ]
  },
  {
   "cell_type": "code",
   "execution_count": 8,
   "metadata": {},
   "outputs": [
    {
     "name": "stdout",
     "output_type": "stream",
     "text": [
      "villa\n"
     ]
    }
   ],
   "source": []
  }
 ],
 "metadata": {
  "kernelspec": {
   "display_name": "kodnisse",
   "language": "python",
   "name": "python3"
  },
  "language_info": {
   "codemirror_mode": {
    "name": "ipython",
    "version": 3
   },
   "file_extension": ".py",
   "mimetype": "text/x-python",
   "name": "python",
   "nbconvert_exporter": "python",
   "pygments_lexer": "ipython3",
   "version": "3.8.12 (default, Oct 12 2021, 03:01:40) [MSC v.1916 64 bit (AMD64)]"
  },
  "orig_nbformat": 4,
  "vscode": {
   "interpreter": {
    "hash": "886c7fca7b8188aa0fb065041686f06fd2b956325613be6398a76a9cde0a1c8b"
   }
  }
 },
 "nbformat": 4,
 "nbformat_minor": 2
}

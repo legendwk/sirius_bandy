{
 "cells": [
  {
   "cell_type": "code",
   "execution_count": 17,
   "metadata": {},
   "outputs": [
    {
     "name": "stderr",
     "output_type": "stream",
     "text": [
      "c:\\Users\\vikin\\.conda\\envs\\kodnisse\\lib\\site-packages\\statsmodels\\tsa\\base\\tsa_model.py:7: FutureWarning: pandas.Int64Index is deprecated and will be removed from pandas in a future version. Use pandas.Index with the appropriate dtype instead.\n",
      "  from pandas import (to_datetime, Int64Index, DatetimeIndex, Period,\n",
      "c:\\Users\\vikin\\.conda\\envs\\kodnisse\\lib\\site-packages\\statsmodels\\tsa\\base\\tsa_model.py:7: FutureWarning: pandas.Float64Index is deprecated and will be removed from pandas in a future version. Use pandas.Index with the appropriate dtype instead.\n",
      "  from pandas import (to_datetime, Int64Index, DatetimeIndex, Period,\n"
     ]
    },
    {
     "name": "stdout",
     "output_type": "stream",
     "text": [
      "c:\\Users\\vikin\\Documents\\Sirius Bandy\\sirius_bandy\n"
     ]
    }
   ],
   "source": [
    "# imports\n",
    "import matplotlib.pyplot as plt\n",
    "import pandas as pd\n",
    "import numpy as np\n",
    "import os \n",
    "\n",
    "from compile_stats import CompileStats\n",
    "import general_functions as gf\n",
    "from get_plot import Plot\n",
    "\n",
    "\n",
    "import statsmodels.api as sm\n",
    "import statsmodels.formula.api as smf\n",
    "\n",
    "\n",
    "\n",
    "#os.chdir('..')\n",
    "\n",
    "print(os.getcwd())\n"
   ]
  },
  {
   "cell_type": "code",
   "execution_count": 14,
   "metadata": {},
   "outputs": [
    {
     "name": "stdout",
     "output_type": "stream",
     "text": [
      "38\n"
     ]
    }
   ],
   "source": [
    "# vår data\n",
    "season2223 = 'data\\\\compile\\\\säsong 2223'\n",
    "regular_season2223 = 'data\\\\compile\\\\grundserie 2223'\n",
    "all_games = 'data\\\\compile\\\\alla'\n",
    "cup2223 = 'data\\\\compile\\\\cupen 2223'\n",
    "all_45_min = 'data\\\\compile\\\\45 min'\n",
    "outdoors = 'data\\\\compile\\\\utomhus'\n",
    "indoors = 'data\\\\compile\\\\inomhus'\n",
    "bad_ice = 'data\\\\compile\\\\dålig is'\n",
    "playoff2122 = 'data\\\\compile\\\\slutspel 2122'\n",
    "playoff2223 = 'data\\\\compile\\\\slutspel 2223'\n",
    "custom = 'data\\\\compile\\\\custom'\n",
    "inne2223 = 'data\\\\compile\\\\inne 2223'\n",
    "ute2223 = 'data\\\\compile\\\\ute 2223'\n",
    "rapport_all = 'data\\\\compile\\\\rapport all'\n",
    "\n",
    "os.chdir('c:\\\\Users\\\\vikin\\\\Documents\\\\Sirius Bandy\\\\sirius_bandy')\n",
    "\n",
    "\n",
    "# objekt\n",
    "cs = CompileStats(rapport_all)\n",
    "print(len(cs.games))"
   ]
  },
  {
   "cell_type": "code",
   "execution_count": 65,
   "metadata": {},
   "outputs": [],
   "source": [
    "# vi kollar på närkamper och dueller\n",
    "# data\n",
    "# mål\n",
    "goals_sir = np.array(cs.all_stats['goals']['sirius'])\n",
    "goals_opp = np.array(cs.all_stats['goals']['opponent'])\n",
    "\n",
    "# dueller och närkamper\n",
    "duels_sir = np.array(cs.all_stats['duels']['sirius'])\n",
    "duels_opp = np.array(cs.all_stats['duels']['opponent'])\n",
    "\n",
    "scrimmages_sir = np.array(cs.all_stats['scrimmages']['sirius'])\n",
    "scrimmages_opp = np.array(cs.all_stats['scrimmages']['opponent'])\n",
    "\n",
    "interceptions_sir = np.array(cs.all_stats['interceptions']['sirius'])\n",
    "interceptions_opp = np.array(cs.all_stats['interceptions']['opponent'])\n",
    "\n",
    "sog_sir = np.array(cs.all_stats['shots on goal']['sirius'])\n",
    "sog_opp = np.array(cs.all_stats['shots on goal']['opponent'])\n",
    "\n",
    "sa_sir = np.array(cs.all_stats['shot attempts']['sirius'])\n",
    "sa_opp = np.array(cs.all_stats['shot attempts']['opponent'])\n",
    "\n",
    "d = {'goals sirius': goals_sir, 'goals opp': goals_opp, 'goals diff': goals_sir - goals_opp,\n",
    "'duels sirius': duels_sir, 'duels opp': duels_opp, 'duels diff': duels_sir - duels_opp,\n",
    "'scrimmages sirius': scrimmages_sir, 'scrimmages_opp': scrimmages_opp, 'scrimmages diff': scrimmages_sir - scrimmages_opp,\n",
    "'shots on goal sirius': sog_sir, 'shots on goal opp': sog_opp, 'shots on goal diff': sog_sir - sog_opp,\n",
    "'shot attempts sirius': sa_sir, 'shot attempts opp': sa_opp, 'shot attempts diff' : sa_sir - sa_opp}\n",
    "\n",
    "df = pd.DataFrame(d)"
   ]
  },
  {
   "cell_type": "code",
   "execution_count": 71,
   "metadata": {},
   "outputs": [
    {
     "data": {
      "text/plain": [
       "0     10\n",
       "1     14\n",
       "2     13\n",
       "3     13\n",
       "4     17\n",
       "5      7\n",
       "6     19\n",
       "7     21\n",
       "8     18\n",
       "9     18\n",
       "10    13\n",
       "11    15\n",
       "12    15\n",
       "13    14\n",
       "14    13\n",
       "15    17\n",
       "16     9\n",
       "17     9\n",
       "18    11\n",
       "19     6\n",
       "20     8\n",
       "21     8\n",
       "22    15\n",
       "23    11\n",
       "24    13\n",
       "25    12\n",
       "26    22\n",
       "27    15\n",
       "28    18\n",
       "29    26\n",
       "30    12\n",
       "31     9\n",
       "32    10\n",
       "33    10\n",
       "34    12\n",
       "35     7\n",
       "36    12\n",
       "37    10\n",
       "Name: shot attempts opp, dtype: int32"
      ]
     },
     "execution_count": 71,
     "metadata": {},
     "output_type": "execute_result"
    }
   ],
   "source": [
    "#print(y)\n",
    "#print([i for i in x] + [i for i in ])\n",
    "\n",
    "df['shot attempts opp']"
   ]
  },
  {
   "attachments": {},
   "cell_type": "markdown",
   "metadata": {},
   "source": [
    "# Hur vinner man? "
   ]
  },
  {
   "cell_type": "code",
   "execution_count": 83,
   "metadata": {},
   "outputs": [
    {
     "name": "stdout",
     "output_type": "stream",
     "text": [
      "c:\\Users\\vikin\\Documents\\Sirius Bandy\\sirius_bandy\n",
      "38\n",
      "                            OLS Regression Results                            \n",
      "==============================================================================\n",
      "Dep. Variable:             goals_perc   R-squared:                       0.003\n",
      "Model:                            OLS   Adj. R-squared:                 -0.025\n",
      "Method:                 Least Squares   F-statistic:                    0.1012\n",
      "Date:                Fri, 27 Jan 2023   Prob (F-statistic):              0.752\n",
      "Time:                        12:36:10   Log-Likelihood:                -7.1573\n",
      "No. Observations:                  38   AIC:                             18.31\n",
      "Df Residuals:                      36   BIC:                             21.59\n",
      "Df Model:                           1                                         \n",
      "Covariance Type:            nonrobust                                         \n",
      "==============================================================================\n",
      "                 coef    std err          t      P>|t|      [0.025      0.975]\n",
      "------------------------------------------------------------------------------\n",
      "Intercept      0.2184      0.416      0.526      0.602      -0.624       1.061\n",
      "poss_perc      0.2476      0.778      0.318      0.752      -1.331       1.826\n",
      "==============================================================================\n",
      "Omnibus:                        3.122   Durbin-Watson:                   1.695\n",
      "Prob(Omnibus):                  0.210   Jarque-Bera (JB):                2.641\n",
      "Skew:                           0.642   Prob(JB):                        0.267\n",
      "Kurtosis:                       2.864   Cond. No.                         20.5\n",
      "==============================================================================\n",
      "\n",
      "Notes:\n",
      "[1] Standard Errors assume that the covariance matrix of the errors is correctly specified.\n",
      "r för poss_perc och goals_perc 0.05295701342689943\n"
     ]
    },
    {
     "data": {
      "image/png": "[encoded data removed]",
      "text/plain": [
       "<Figure size 432x288 with 1 Axes>"
      ]
     },
     "metadata": {
      "needs_background": "light"
     },
     "output_type": "display_data"
    }
   ],
   "source": [
    "# vi lägger våra bilder här\n",
    "#os.chdir('bilder\\\\rapporten')\n",
    "print(os.getcwd())\n",
    "os.chdir('c:\\\\Users\\\\vikin\\\\Documents\\\\Sirius Bandy\\\\sirius_bandy')\n",
    "# data\n",
    "x_string, y_string = 'poss_perc', 'goals_perc'\n",
    "x = cs.all_stats['duel zones']['z8']['sirius'] + cs.all_stats['duel zones']['z2']['opponent'] \n",
    "y = cs.all_stats['goals']['sirius'] + cs.all_stats['goals']['opponent']\n",
    "x, y = df['shots on goal sirius'] /(df['shots on goal sirius'] + df['shots on goal opp']), df['goals sirius']/(df['goals sirius'] + df['goals opp'])\n",
    "x = x.fillna(0.5)\n",
    "y = y.fillna(0.5)\n",
    "\n",
    "x = poss_percentage\n",
    "y = df['goals sirius']/(df['goals sirius'] + df['goals opp'])\n",
    "y = y.fillna(0.5)\n",
    "#x, y = [i for i in sog_sir] + [i for i in sog_opp], [i for i in goals_sir] + [i for i in goals_opp]\n",
    "\n",
    "print(len(x))\n",
    "\n",
    "c_df = pd.DataFrame()\n",
    "c_df[x_string] = x\n",
    "c_df[y_string] = y\n",
    "\n",
    "#fit the model\n",
    "model_fit=smf.ols(formula=f'{y_string} ~ {x_string}', data=c_df[[y_string,x_string]]).fit()\n",
    "#print summary\n",
    "print(model_fit.summary())\n",
    "\n",
    "# korrelationskoefficient\n",
    "print(f\"r för {x_string} och {y_string} {np.corrcoef(x, y)[0][1]}\")\n",
    "\n",
    "# plotta datan med en 1d-trendlinje\n",
    "plt.scatter(x, y, marker='o')#, label = 'mål och närkamper')\n",
    "plt.xlabel('Innehavsprocent')\n",
    "plt.ylabel('Målprocent')\n",
    "#plt.title('Mål- mot duellskillnad halvleksvis')\n",
    "z = np.polyfit(x, y, 1)\n",
    "p = np.poly1d(z)\n",
    "\n",
    "# trendlinje\n",
    "plt.plot(x, p(x), color = 'r', label = f'lutning {round(z[0], 4)}')#, label = 'tredlinje')\n",
    "plt.legend()\n",
    "#plt.figure(dpi = 100)\n",
    "plt.savefig(f'{x_string} mot {y_string} halvleksvis 1d trendlinje.png', dpi = 200)\n",
    "plt.show()\n",
    "plt.close()\n"
   ]
  },
  {
   "cell_type": "code",
   "execution_count": 33,
   "metadata": {},
   "outputs": [],
   "source": [
    "c_df = pd.DataFrame()\n",
    "c_df['']\n",
    "\n",
    "#model_fit=smf.ols(formula='Shots ~ Passes', data=custom_df[['Shots','Passes']]).fit()\n"
   ]
  },
  {
   "cell_type": "code",
   "execution_count": 116,
   "metadata": {},
   "outputs": [
    {
     "name": "stdout",
     "output_type": "stream",
     "text": [
      "r för corsi events och goals for 0.48529395841533746\n",
      "z: [ 0.17745877 -0.43115135]\n"
     ]
    },
    {
     "data": {
      "image/png": "[encoded data removed]",
      "text/plain": [
       "<Figure size 432x288 with 1 Axes>"
      ]
     },
     "metadata": {
      "needs_background": "light"
     },
     "output_type": "display_data"
    }
   ],
   "source": [
    "# vi lägger våra bilder här\n",
    "os.chdir('bilder\\\\rapporten')\n",
    "\n",
    "# data\n",
    "x_string, y_string = 'corsi events', 'goals for'\n",
    "x = cs.all_stats['shot attempts']['sirius'] + cs.all_stats['shot attempts']['opponent']\n",
    "y = cs.all_stats['goals']['sirius'] + cs.all_stats['goals']['opponent']\n",
    "# df['duels sirius']/(df['duels sirius'] + df['duels opp']), df['goals sirius']/(df['goals sirius'] + df['goals opp'])\n",
    "\n",
    "\n",
    "# korrelationskoefficient\n",
    "print(f\"r för {x_string} och {y_string} {np.corrcoef(x, y)[0][1]}\")\n",
    "\n",
    "# plotta datan med en 1d-trendlinje\n",
    "plt.scatter(x, y, marker='o')#, label = 'mål och närkamper')\n",
    "plt.xlabel('Corsihändelser')\n",
    "plt.ylabel('Gjorda mål')\n",
    "#plt.title('Mål- mot duellskillnad halvleksvis')\n",
    "z = np.polyfit(x, y, 1)\n",
    "p = np.poly1d(z)\n",
    "\n",
    "print(f'z: {z}')\n",
    "# trendlinje\n",
    "plt.plot(x, p(x), color = 'r', label = f'lutning {round(z[0], 4)}')#, label = 'tredlinje')\n",
    "plt.legend()\n",
    "plt.savefig(f'{x_string} mot {y_string} halvleksvis 1d trendlinje.png', dpi = 200)\n",
    "plt.show()\n",
    "plt.close()\n",
    "\n",
    "\n",
    "os.chdir('..\\\\..')"
   ]
  },
  {
   "cell_type": "code",
   "execution_count": 80,
   "metadata": {},
   "outputs": [
    {
     "name": "stdout",
     "output_type": "stream",
     "text": [
      "c:\\Users\\vikin\\Documents\\Sirius Bandy\\sirius_bandy\n"
     ]
    },
    {
     "data": {
      "text/plain": [
       "'\\n# data\\nx_string, y_string = \\'possession percentage\\', \\'goal percentage\\'\\nx = poss_percentage\\ny = df[\\'goals sirius\\']/(df[\\'goals opp\\'] + df[\\'goals sirius\\']) * 100  \\n#cs.all_stats[\\'goals\\'][\\'sirius\\'] /(cs.all_stats[\\'goals\\'][\\'sirius\\'] + cs.all_stats[\\'goals\\'][\\'opponent\\'])\\n# df[\\'duels sirius\\']/(df[\\'duels sirius\\'] + df[\\'duels opp\\']), df[\\'goals sirius\\']/(df[\\'goals sirius\\'] + df[\\'goals opp\\'])\\n\\n# korrelationskoefficient\\n#print(f\"r för {x_string} och {y_string} {np.corrcoef(x, y)[0][1]}\")\\n\\n# plotta datan med en 1d-trendlinje\\nplt.scatter(x, y, marker=\\'o\\')#, label = \\'mål och närkamper\\')\\nplt.xlabel(\\'Innehavsprocent\\')\\nplt.ylabel(\\'Målprocent\\')\\n#plt.title(\\'Mål- mot duellskillnad halvleksvis\\')\\nz = np.polyfit(x, y, 1)\\np = np.poly1d(z)\\n\\n\\n# trendlinje\\nplt.plot(x, p(x), color = \\'r\\', label = f\\'lutning {round(z[0], 4)}\\')#, label = \\'tredlinje\\')\\nplt.legend()\\nplt.savefig(f\\'{x_string} mot {y_string} halvleksvis 1d trendlinje.png\\')\\nplt.show()\\nplt.close()\\n'"
      ]
     },
     "execution_count": 80,
     "metadata": {},
     "output_type": "execute_result"
    }
   ],
   "source": [
    "print(os.getcwd())\n",
    "#os.chdir('bilder\\\\rapporten')\n",
    "\n",
    "poss_percentage = []\n",
    "for i in range(len(cs.all_stats['possession']['sirius'])):\n",
    "    poss_si = gf.readable_to_sec(cs.all_stats['possession']['sirius'][i])\n",
    "    poss_op = gf.readable_to_sec(cs.all_stats['possession']['opponent'][i])\n",
    "    poss_percentage.append(poss_si/(poss_si + poss_op))\n",
    "\n",
    "#poss_percentage = poss_percentage + p\n",
    "'''\n",
    "# data\n",
    "x_string, y_string = 'possession percentage', 'goal percentage'\n",
    "x = poss_percentage\n",
    "y = df['goals sirius']/(df['goals opp'] + df['goals sirius']) * 100  \n",
    "#cs.all_stats['goals']['sirius'] /(cs.all_stats['goals']['sirius'] + cs.all_stats['goals']['opponent'])\n",
    "# df['duels sirius']/(df['duels sirius'] + df['duels opp']), df['goals sirius']/(df['goals sirius'] + df['goals opp'])\n",
    "\n",
    "# korrelationskoefficient\n",
    "#print(f\"r för {x_string} och {y_string} {np.corrcoef(x, y)[0][1]}\")\n",
    "\n",
    "# plotta datan med en 1d-trendlinje\n",
    "plt.scatter(x, y, marker='o')#, label = 'mål och närkamper')\n",
    "plt.xlabel('Innehavsprocent')\n",
    "plt.ylabel('Målprocent')\n",
    "#plt.title('Mål- mot duellskillnad halvleksvis')\n",
    "z = np.polyfit(x, y, 1)\n",
    "p = np.poly1d(z)\n",
    "\n",
    "\n",
    "# trendlinje\n",
    "plt.plot(x, p(x), color = 'r', label = f'lutning {round(z[0], 4)}')#, label = 'tredlinje')\n",
    "plt.legend()\n",
    "plt.savefig(f'{x_string} mot {y_string} halvleksvis 1d trendlinje.png')\n",
    "plt.show()\n",
    "plt.close()\n",
    "'''"
   ]
  },
  {
   "cell_type": "code",
   "execution_count": 108,
   "metadata": {},
   "outputs": [
    {
     "name": "stdout",
     "output_type": "stream",
     "text": [
      "sirius more: {'sirius': 4, 'opponent': 12}\n",
      "opp more {'sirius': 2, 'opponent': 7}\n"
     ]
    }
   ],
   "source": [
    "sirius_more = {'sirius': 0, 'opponent': 0}\n",
    "opponent_more = {'sirius': 0, 'opponent': 0}\n",
    "barrier = 0.5\n",
    "for i in range(len(cs.games)):\n",
    "    if gf.readable_to_sec(cs.all_stats['possession']['sirius'][i])/(gf.readable_to_sec(cs.all_stats['possession']['opponent'][i]) + gf.readable_to_sec(cs.all_stats['possession']['sirius'][i])) >= barrier:\n",
    "        if cs.all_stats['goals']['sirius'][i] > cs.all_stats['goals']['opponent'][i]:\n",
    "            sirius_more['sirius'] += 1\n",
    "        elif cs.all_stats['goals']['sirius'][i] < cs.all_stats['goals']['opponent'][i]:\n",
    "            sirius_more['opponent'] += 1\n",
    "    elif gf.readable_to_sec(cs.all_stats['possession']['opponent'][i])/(gf.readable_to_sec(cs.all_stats['possession']['opponent'][i]) + gf.readable_to_sec(cs.all_stats['possession']['sirius'][i])) >= barrier:\n",
    "        if cs.all_stats['goals']['sirius'][i] > cs.all_stats['goals']['opponent'][i]:\n",
    "            opponent_more['sirius'] += 1\n",
    "        elif cs.all_stats['goals']['sirius'][i] < cs.all_stats['goals']['opponent'][i]:\n",
    "            opponent_more['opponent'] += 1\n",
    "print(f'sirius more: {sirius_more}')\n",
    "print(f'opp more {opponent_more}')"
   ]
  },
  {
   "cell_type": "code",
   "execution_count": 6,
   "metadata": {},
   "outputs": [
    {
     "name": "stdout",
     "output_type": "stream",
     "text": [
      "sirius more: {'sirius': 4, 'opponent': 3}\n",
      "opp more {'sirius': 0, 'opponent': 7}\n"
     ]
    }
   ],
   "source": [
    "sirius_more = {'sirius': 0, 'opponent': 0}\n",
    "opponent_more = {'sirius': 0, 'opponent': 0}\n",
    "barrier = 0.55\n",
    "for i in range(len(cs.games)):\n",
    "    if cs.all_stats['shot attempts']['sirius'][i]/(cs.all_stats['shot attempts']['opponent'][i] + cs.all_stats['shot attempts']['sirius'][i]) >= barrier:\n",
    "        if cs.all_stats['goals']['sirius'][i] > cs.all_stats['goals']['opponent'][i]:\n",
    "            sirius_more['sirius'] += 1\n",
    "        elif cs.all_stats['goals']['sirius'][i] < cs.all_stats['goals']['opponent'][i]:\n",
    "            sirius_more['opponent'] += 1\n",
    "    elif cs.all_stats['shot attempts']['opponent'][i]/(cs.all_stats['shot attempts']['opponent'][i] + cs.all_stats['shot attempts']['sirius'][i]) >= barrier:\n",
    "        if cs.all_stats['goals']['sirius'][i] > cs.all_stats['goals']['opponent'][i]:\n",
    "            opponent_more['sirius'] += 1\n",
    "        elif cs.all_stats['goals']['sirius'][i] < cs.all_stats['goals']['opponent'][i]:\n",
    "            opponent_more['opponent'] += 1\n",
    "print(f'sirius more: {sirius_more}')\n",
    "print(f'opp more {opponent_more}')"
   ]
  },
  {
   "attachments": {},
   "cell_type": "markdown",
   "metadata": {},
   "source": [
    "# Bra och dålig is"
   ]
  },
  {
   "cell_type": "code",
   "execution_count": 50,
   "metadata": {},
   "outputs": [],
   "source": [
    "rapport_inne = 'data\\\\compile\\\\rapport inomhus'\n",
    "rapport_ute = 'data\\\\compile\\\\rapport utomhus'\n",
    "rapport_bad_ice = 'data\\\\compile\\\\rapport dålig is'\n",
    "rapport_good_ice = 'data\\\\compile\\\\rapport bra is'\n",
    "\n",
    "N_inne, N_ute, N_bad_ice, N_good_ice = 20, 16, 4, 12\n",
    "\n",
    "cs_inne = CompileStats(rapport_inne)\n",
    "cs_ute = CompileStats(rapport_ute)\n",
    "cs_bad_ice = CompileStats(rapport_bad_ice)\n",
    "cs_good_ice = CompileStats(rapport_good_ice)\n",
    "\n",
    "os.chdir('bilder\\\\rapporten')"
   ]
  },
  {
   "cell_type": "code",
   "execution_count": 66,
   "metadata": {},
   "outputs": [
    {
     "name": "stdout",
     "output_type": "stream",
     "text": [
      "{'z2': {'sirius': 5.4, 'opponent': 1.0}, 'z9': {'sirius': 0.9, 'opponent': 1.4}, 'z5': {'sirius': 4.85, 'opponent': 4.5}, 'z7': {'sirius': 0.8, 'opponent': 1.6}, 'z8': {'sirius': 0.85, 'opponent': 5.25}, 'z3': {'sirius': 1.4, 'opponent': 0.7}, 'z1': {'sirius': 1.2, 'opponent': 0.65}, 'z4': {'sirius': 2.8, 'opponent': 2.05}, 'z6': {'sirius': 2.35, 'opponent': 2.5}}\n"
     ]
    },
    {
     "data": {
      "text/plain": [
       "\"\\nprint(cs_inne.all_stats['duel zones'])\\nprint(cs_inne.stats_summary['duel zones'])\\n\\ns = cs_inne.returns_stats_obj()\\nfor grabb in s.prints:\\n    print(s.prints[grabb])\\n\\n#print(s.prints['duel zones'])\\nfor z in s.prints['duel zones']:\\n    for team in s.prints['duel zones'][z]:\\n        s.prints['duel zones'][z][team] = s.prints['duel zones'][z][team]// N_inne\\nprint(s.prints['duel zones'])\\nplot = Plot(s)\\nplot.make_all_duels_locations_image()\\nplot.make_all_duels_locations_image()\\n\""
      ]
     },
     "execution_count": 66,
     "metadata": {},
     "output_type": "execute_result"
    }
   ],
   "source": [
    "# vi lägger våra bilder här\n",
    "\n",
    "cs = cs_inne\n",
    "N = N_inne\n",
    "\n",
    "for z in cs.all_stats['duel zones']:\n",
    "    for team in cs.all_stats['duel zones'][z]:\n",
    "        cs.stats_summary['duel zones'][z][team] = sum(cs.all_stats['duel zones'][z][team]) / N\n",
    "\n",
    "print(cs.stats_summary['duel zones'])\n",
    "'''\n",
    "print(cs_inne.all_stats['duel zones'])\n",
    "print(cs_inne.stats_summary['duel zones'])\n",
    "\n",
    "s = cs_inne.returns_stats_obj()\n",
    "for grabb in s.prints:\n",
    "    print(s.prints[grabb])\n",
    "\n",
    "#print(s.prints['duel zones'])\n",
    "for z in s.prints['duel zones']:\n",
    "    for team in s.prints['duel zones'][z]:\n",
    "        s.prints['duel zones'][z][team] = s.prints['duel zones'][z][team]// N_inne\n",
    "print(s.prints['duel zones'])\n",
    "plot = Plot(s)\n",
    "plot.make_all_duels_locations_image()\n",
    "plot.make_all_duels_locations_image()\n",
    "'''"
   ]
  }
 ],
 "metadata": {
  "kernelspec": {
   "display_name": "kodnisse",
   "language": "python",
   "name": "python3"
  },
  "language_info": {
   "codemirror_mode": {
    "name": "ipython",
    "version": 3
   },
   "file_extension": ".py",
   "mimetype": "text/x-python",
   "name": "python",
   "nbconvert_exporter": "python",
   "pygments_lexer": "ipython3",
   "version": "3.8.12 (default, Oct 12 2021, 03:01:40) [MSC v.1916 64 bit (AMD64)]"
  },
  "orig_nbformat": 4,
  "vscode": {
   "interpreter": {
    "hash": "886c7fca7b8188aa0fb065041686f06fd2b956325613be6398a76a9cde0a1c8b"
   }
  }
 },
 "nbformat": 4,
 "nbformat_minor": 2
}
